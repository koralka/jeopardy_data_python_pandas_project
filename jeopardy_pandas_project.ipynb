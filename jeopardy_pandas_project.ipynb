{
 "cells": [
  {
   "cell_type": "markdown",
   "id": "79ddf003-565b-47f5-93d2-14df534ab684",
   "metadata": {},
   "source": [
    "# Jeopardy Data Analysis Project 🎯"
   ]
  },
  {
   "cell_type": "markdown",
   "id": "4112b259-f604-45b7-b714-42385f031935",
   "metadata": {},
   "source": [
    "## Introduction  \n",
    "This project explores Jeopardy questions to identify patterns, trends, and relationships between different aspects of the game."
   ]
  },
  {
   "cell_type": "markdown",
   "id": "3445920b-3ffa-44f1-890b-35f65df35ef2",
   "metadata": {},
   "source": [
    "### 🎯 Project Goals:\n",
    "✔ Find questions containing specific words  \n",
    "✔ Convert monetary values into numerical data  \n",
    "✔ Analyse how question topics have changed over time  \n",
    "✔ Identify the most common categories in each round "
   ]
  },
  {
   "cell_type": "markdown",
   "id": "9e9442da-7e81-4dd1-9a77-54eb5d768e37",
   "metadata": {},
   "source": [
    "## 1️⃣ Importing Libraries & Loading the Data"
   ]
  },
  {
   "cell_type": "code",
   "execution_count": 8,
   "id": "3c730e07-dbbc-4771-abb9-77124393d3a0",
   "metadata": {},
   "outputs": [
    {
     "name": "stdout",
     "output_type": "stream",
     "text": [
      "Index(['Show Number', ' Air Date', ' Round', ' Category', ' Value',\n",
      "       ' Question', ' Answer'],\n",
      "      dtype='object')\n",
      "Index(['Show Number', 'Air Date', 'Round', 'Category', 'Value', 'Question',\n",
      "       'Answer'],\n",
      "      dtype='object')\n",
      "0                               For the last 8 years of his life, Galileo was under house arrest for espousing this man's theory\n",
      "1                    No. 2: 1912 Olympian; football star at Carlisle Indian School; 6 MLB seasons with the Reds, Giants & Braves\n",
      "2                                       The city of Yuma in this state has a record average of 4,055 hours of sunshine each year\n",
      "3                                           In 1963, live on \"The Art Linkletter Show\", this company served its billionth burger\n",
      "4                       Signer of the Dec. of Indep., framer of the Constitution of Mass., second President of the United States\n",
      "                                                                   ...                                                          \n",
      "216925                                                This Puccini opera turns on the solution to 3 riddles posed by the heroine\n",
      "216926                   In North America this term is properly applied to only 4 species that are crested, including the tufted\n",
      "216927                 In Penny Lane, where this \"Hellraiser\" grew up, the barber shaves another customer--then flays him alive!\n",
      "216928    From Ft. Sill, Okla. he made the plea, Arizona is my land, my home, my father's land, to which I now ask to... return\"\n",
      "216929                   A silent movie title includes the last name of this 18th c. statesman & favorite of Catherine the Great\n",
      "Name: Question, Length: 216930, dtype: object\n"
     ]
    }
   ],
   "source": [
    "import pandas as pd\n",
    "pd.set_option('display.max_colwidth', None)\n",
    "\n",
    "# Loading the data and investigating it\n",
    "jeopardy = pd.read_csv('jeopardy.csv')\n",
    "print(jeopardy.columns)\n",
    "\n",
    "# Renaming columns to remove leading spaces\n",
    "jeopardy = jeopardy.rename(columns = {\" Air Date\": \"Air Date\", \" Round\" : \"Round\", \" Category\": \"Category\", \" Value\": \"Value\", \" Question\":\"Question\", \" Answer\": \"Answer\"})\n",
    "\n",
    "# Confirming changes\n",
    "print(jeopardy.columns)\n",
    "print(jeopardy[\"Question\"])"
   ]
  },
  {
   "cell_type": "markdown",
   "id": "0654c48b-c887-4778-860e-371cc317d1a9",
   "metadata": {},
   "source": [
    "## 2️⃣ Data Filtering: Finding Questions with Specific Words"
   ]
  },
  {
   "cell_type": "code",
   "execution_count": 11,
   "id": "9ed5e479-b0b1-4800-80cd-42b8ff2bad0a",
   "metadata": {},
   "outputs": [
    {
     "name": "stdout",
     "output_type": "stream",
     "text": [
      "4953                                                                                                                                                                                                                                                                      Both England's King George V & FDR put their stamp of approval on this \"King of Hobbies\"\n",
      "14912                                                                                                                                                                                                                                                            This country's King Louis IV was nicknamed \"Louis From Overseas\" because he was raised in England\n",
      "21511                                                                                                                                                                                                                                                                                 this man and his son ruled England following the execution of King Charles I\n",
      "23810                                                                                                                                                                                                                                                         William the Conqueror was crowned King of England in Westminster Abbey on Christmas Day in this year\n",
      "27555                                                                                                                                                                                                                                                                           This member of the Medici family was the mother-in-law of England's King Charles I\n",
      "33294                 (Sarah of the Clue Crew delivers the clue from the Bayeux Cathedral in France.)  Despite taking an oath to assure another succession, Harold is crowned King of England; the tapestry indicated it was <a href=\"http://www.j-archive.com/media/2008-12-18_J_08.jpg\" target=\"_blank\">Stigant</a>, this archbishop, who performed the ceremony\n",
      "41148                                                                                                                                                                                                                                    This French king recognized William of Orange as William II, King of England, under the terms of 1697's Treaty of Ryswick\n",
      "41357                                                                                                                                                                                                                                                     England's King Henry VIII had 3 wives named Catherine:  Catherine Howard, Catherine of Aragon & this one\n",
      "43122                                                                                                                                                                                                                                                                                                                       The father of England's King Edward VI\n",
      "47814                                                                                                                                                                                                                                                                                                   This steak sauce was created for King George IV of England\n",
      "49994                                                                                                                                                                                                                                                                       Elizabeth I's half-brother, he reigned before her as King of England from 1547 to 1553\n",
      "51115                                                                                                                  (<a href=\"http://www.j-archive.com/media/2000-03-02_J_22.jpg\" target=\"_blank\">Alex Trebek reads from England.</a>)  In 1214 barons fed up with King John met at the abbey whose ruins we see here; the result a year later was this charter\n",
      "51565                                                                                                                                                                                                                                                 He wrote several anthems, including \"The King Shall Rejoice\", for the coronation of England's King George II\n",
      "56600                                                                                                                                                                                                                                                              This city known for its 24-hour auto race was the birthplace of England's King Henry II in 1133\n",
      "57516                                                                                                                                                                                                                                                                                         Famous (& rather insulting) adjective for England's King Ethelred II\n",
      "58949                                                                                                                                                                                                                                                                        He became King of England in 1399 after forcing his cousin Richard II from the throne\n",
      "71808                                                                                                                                                                                                                                                                                      Number of the William who was England's \"Sailor King\" from 1830 to 1837\n",
      "74235                                                                                                                                                                                                                                                                     Barons & churchmen drew up this 1215 document to reduce the power of England's King John\n",
      "77195                                                                                                                                                                                                                                                          He became King of England on June 26, 1483; just over 2 years later he was killed at Bosworth Field\n",
      "79457                                                                                                                                                                                                                                              On Christmas Day 1066, he was crowned King of England, 72 days after defeating Harold at the Battle of Hastings\n",
      "80113                                                                                                                                                                                                                                                                                                England's King Charles II was known by this \"jovial\" nickname\n",
      "84639                                                                                                                                                                                                                                                                            He went from second banana on \"Roseanne\" to top banana of England in \"King Ralph\"\n",
      "86412                                                                                                                                                                                                                                                                         This country's King Olaf V was born in England & was the grandson of King Edward VII\n",
      "89710                                                                                                                                                                                                                                                            This 11th Century King of England also ruled Denmark & Norway during the latter part of his reign\n",
      "111926                                                                                                                                                                                                                                                   It begins \"John, by the grace of God, King of England, Lord of Ireland, Duke of Normandy & Aquitaine....\"\n",
      "118809                                                                                                                                                                                                                                                                                            In French this King of England is called Guillaume le Conquerant\n",
      "123299                                                                                                                                                                                                                                                                     If you want to be crowned King of England, this rock has to be in your coronation chair\n",
      "123671                                                                                                                                                                                                                                                                                                                              King Henry VII of England dies\n",
      "125822                                                                                                                                                                                                                                                                                              Famous nickname of the eldest son of England's King Edward III\n",
      "127484                                                                                                                                                                                                                                                                Ethelred the Unready managed to lose most of England to King Sweyn Forkbeard of this country\n",
      "127758                                                                                                                                                                                                                                                                                  This state was named for the King of England who reigned from 1727 to 1760\n",
      "129106                                                                                                                                                                                                                                                              King Edward I of England, who fought William Wallace, had this nickname relating to his height\n",
      "130208                                                                                                                                                                                                                                                                                    This \"Sun King\" sniffed, \"England is a little garden full of sour weeds\"\n",
      "137818                                                                                                                                                                                                                                                                                        The last King William to rule England had this number after his name\n",
      "143434                                                                                                                                                                                                                                                                This Flemish artist painted a unique triple portrait of England's King Charles I around 1637\n",
      "150880                                                                                                                                                                                                                                                                                       During Stanley Baldwin's term as P.M., this King of England abdicated\n",
      "165110                                                                                                                                                                                                                                                        The 1st commoner to rule England, he became lord protector following the overthrow of King Charles I\n",
      "165197                                                                                                                                                                                                                                                       The \"Angel of Hadley\" is said to have saved a New England town during the war with this Indian \"King\"\n",
      "170007                                                                                                                                                                                                                                                                In the 1697 Treaty of Rijswijk, the French recognized this Dutch-born man as King of England\n",
      "174055                                                                                                                                                                                                                                                                                            This conqueror was crowned King of England on Christmas Day 1066\n",
      "175259                                                                                                                                                                                                                                                                                                          His short reign as King of England fell in in 1936\n",
      "183462                                                                                                                                                                                                                                                            A capital in the West Indies is named for this family name of William of Orange, King of England\n",
      "186239                                                                                                                                                                                                                                           He was King of England from 1189 to 1199 but spent only 6 months there; the rest of the time, he was off fighting\n",
      "187651                                                                                                                                                                                                                                                                     This Bahamian capital took its name from the family name of King William III of England\n",
      "191579                                                                                                                                                                                                                                                                             England's King Harold II lost the all-important Battle of Hastings in this year\n",
      "192265    (<a href=\"http://www.j-archive.com/media/2012-01-17_DJ_25.jpg\" target=\"_blank\">Sarah of the Clue Crew stands in front of the Royal Palace in Oslo, Norway.</a>) King Harald V lives here, in Norway's Royal Palace. He and his second cousin, England's Queen Elizabeth, are both great-grandchildren of this British king, who ruled from 1901 to 1910.\n",
      "192966                                                                                                                                                                                                                                                                                                                          England's King _____ _____ R. Luce\n",
      "194516                                                                                                                                                                                                                                                            The \"Monty Python\" member who played King Arthur, he ended his grail quest in Maidstone, England\n",
      "200369                                                                                                                                                                                                                                             8th C. King Offa built a 170-mile north-south dike that still partly marks the border of England & this country\n",
      "Name: Question, dtype: object\n"
     ]
    }
   ],
   "source": [
    "# Function to filter questions that contain specific words\n",
    "def filter_data(data, words):\n",
    "    filter = lambda x: all(word in x for word in words)\n",
    "    return data.loc[data['Question'].apply(filter)]\n",
    "\n",
    "# Testing\n",
    "filtered = filter_data(jeopardy, ['King', 'England'])\n",
    "print(filtered['Question'])"
   ]
  },
  {
   "cell_type": "code",
   "execution_count": 13,
   "id": "a090e7c6-7ae6-4b6f-89a6-419f8d4b6926",
   "metadata": {},
   "outputs": [
    {
     "name": "stdout",
     "output_type": "stream",
     "text": [
      "4953                    Both England's King George V & FDR put their stamp of approval on this \"King of Hobbies\"\n",
      "6337      In retaliation for Viking raids, this \"Unready\" king of England attacks Norse areas of the Isle of Man\n",
      "9191                    This king of England beat the odds to trounce the French in the 1415 Battle of Agincourt\n",
      "11710               This Scotsman, the first Stuart king of England, was called \"The Wisest Fool in Christendom\"\n",
      "13454                                       It's the number that followed the last king of England named William\n",
      "                                                           ...                                                  \n",
      "208295        In 1066 this great-great grandson of Rollo made what some call the last Viking invasion of England\n",
      "208742                      Dutch-born king who ruled England jointly with Mary II & is a tasty New Zealand fish\n",
      "213870                In 1781 William Herschel discovered Uranus & initially named it after this king of England\n",
      "216021          His nickname was \"Bertie\", but he used this name & number when he became king of England in 1901\n",
      "216789        This kingdom of England grew from 2 settlements, one founded around 495 by Cerdic & his son Cynric\n",
      "Name: Question, Length: 152, dtype: object\n",
      "6337               In retaliation for Viking raids, this \"Unready\" king of England attacks Norse areas of the Isle of Man\n",
      "9191                             This king of England beat the odds to trounce the French in the 1415 Battle of Agincourt\n",
      "13454                                                It's the number that followed the last king of England named William\n",
      "14912                   This country's King Louis IV was nicknamed \"Louis From Overseas\" because he was raised in England\n",
      "18076                     In 1199 this crusader king of England was mortally wounded while besieging the castle of Chalus\n",
      "                                                               ...                                                       \n",
      "200369    8th C. King Offa built a 170-mile north-south dike that still partly marks the border of England & this country\n",
      "201168                                           Popular Saint-Exupery character waiting around to become king of England\n",
      "208742                               Dutch-born king who ruled England jointly with Mary II & is a tasty New Zealand fish\n",
      "213870                         In 1781 William Herschel discovered Uranus & initially named it after this king of England\n",
      "216021                   His nickname was \"Bertie\", but he used this name & number when he became king of England in 1901\n",
      "Name: Question, Length: 74, dtype: object\n"
     ]
    }
   ],
   "source": [
    "# Improving the function\n",
    "# version 1 - Lowercases all words in the list of words as well as the questions BUT no longer find words like \"England's\"\n",
    "def filter_data(data, words):\n",
    "    filter = lambda x: all(word.lower() in x.lower() for word in words)\n",
    "    return data.loc[data['Question'].apply(filter)]\n",
    "\n",
    "# Testing\n",
    "filtered = filter_data(jeopardy, ['King', 'England'])\n",
    "print(filtered['Question'])\n",
    "\n",
    "\n",
    "# version 2 - - lowercases all words in the list of words, doesn't find substrings, ensures NaN values don't break the function\n",
    "def filter_data_2(data, words):\n",
    "    filter_2 = lambda x: all(f\" {word.lower()} \" in f\" {str(x).lower()} \" for word in words)\n",
    "    return data.loc[data[\"Question\"].apply(filter_2)]\n",
    "\n",
    "# Testing \n",
    "filtered_2 = filter_data_2(jeopardy, [\"King\", \"England\"])\n",
    "print(filtered_2[\"Question\"])"
   ]
  },
  {
   "cell_type": "markdown",
   "id": "3d1027ae-f510-4b8b-8f37-6b323e7ae6d4",
   "metadata": {},
   "source": [
    "## 3️⃣ Data Cleaning: Converting Monetary Values to Floats"
   ]
  },
  {
   "cell_type": "code",
   "execution_count": 16,
   "id": "cda854da-e81b-495d-b8f3-4e2e833e3194",
   "metadata": {},
   "outputs": [
    {
     "name": "stdout",
     "output_type": "stream",
     "text": [
      "  Value  Value_converted\n",
      "0  $200            200.0\n",
      "1  $200            200.0\n",
      "2  $200            200.0\n",
      "3  $200            200.0\n",
      "4  $200            200.0\n",
      "5  $200            200.0\n",
      "6  $400            400.0\n",
      "7  $400            400.0\n",
      "8  $400            400.0\n",
      "9  $400            400.0\n"
     ]
    }
   ],
   "source": [
    "# Function to clean and convert \"Value\" column to float\n",
    "def convert_float(data):\n",
    "    converter = lambda x: str(x).replace(\",\", \"\").replace(\"no value\", \"0.0\").replace(\"$\", \"\") # Cleaning values for conversion\n",
    "    data[\"Value_converted\"] = data[\"Value\"].apply(converter).astype(float) # Converting to float\n",
    "    \n",
    "    return data\n",
    "\n",
    "df_converted = convert_float(jeopardy)\n",
    "print(df_converted[[\"Value\", \"Value_converted\"]].head(10))  # Check before & after"
   ]
  },
  {
   "cell_type": "markdown",
   "id": "0cd5acce-b02d-49ec-b0ab-d70ae02655cc",
   "metadata": {},
   "source": [
    "## 4️⃣ Finding the Average Value of Questions Containing Specific Words"
   ]
  },
  {
   "cell_type": "code",
   "execution_count": 19,
   "id": "7fe52be9-a56c-49ae-9554-aadf62cfd686",
   "metadata": {},
   "outputs": [
    {
     "name": "stdout",
     "output_type": "stream",
     "text": [
      "805.4698795180723\n"
     ]
    }
   ],
   "source": [
    "# Function to calculate the average value of questions containing specific words\n",
    "def find_avg_value_words(data, words):\n",
    "    filtered_data = filter_data_2(data, words) # Filtering the dataset\n",
    "    return filtered_data[\"Value_converted\"].mean() # Calculating the average\n",
    "\n",
    "avg_value = find_avg_value_words(jeopardy, [\"King\"])\n",
    "print(avg_value)"
   ]
  },
  {
   "cell_type": "markdown",
   "id": "f8fc0b9d-6e64-4b0f-8970-cb5f61cfb8cb",
   "metadata": {},
   "source": [
    "## 5️⃣ Counting Unique Answers to Filtered Questions"
   ]
  },
  {
   "cell_type": "code",
   "execution_count": 22,
   "id": "02f27dfd-dbeb-49ce-9bbf-2f95b662af64",
   "metadata": {},
   "outputs": [
    {
     "name": "stdout",
     "output_type": "stream",
     "text": [
      "Answer\n",
      "Henry VIII                           41\n",
      "Sweden                               24\n",
      "Solomon                              23\n",
      "Norway                               22\n",
      "Richard III                          21\n",
      "                                     ..\n",
      "Tory                                  1\n",
      "Naomi Watts Riots                     1\n",
      "Bad, Bad Leroy Brown                  1\n",
      "Elephants                             1\n",
      "a pyramid (the pyramids accepted)     1\n",
      "Name: count, Length: 1165, dtype: int64\n",
      "The most common answer is: Henry VIII.\n"
     ]
    }
   ],
   "source": [
    "# Function to count unique answers for filtered questions\n",
    "def count_unique_answers(data, words):\n",
    "    filtered_data = filter_data_2(data, words)\n",
    "    return filtered_data['Answer'].value_counts()\n",
    "\n",
    "unique_answers = count_unique_answers(jeopardy, ['king'])\n",
    "print(unique_answers)\n",
    "\n",
    "# Finding the most common answer:\n",
    "most_common_asnwer = unique_answers.idxmax()\n",
    "print(f\"The most common answer is: {most_common_asnwer}.\")"
   ]
  },
  {
   "cell_type": "markdown",
   "id": "217bef01-678a-484d-bc81-a6affb4f10ed",
   "metadata": {},
   "source": [
    "## 6️⃣ Analysing How Questions Change Over Time\n",
    "**NOTE**: There are different ways of doing this. one would be to check if the string (since data in that column is a string) contains specific numbers to filter thorught the dates. This approach is slightly different."
   ]
  },
  {
   "cell_type": "code",
   "execution_count": 25,
   "id": "d58391f0-a5a5-46ed-b5f9-57af94357f6a",
   "metadata": {},
   "outputs": [
    {
     "name": "stdout",
     "output_type": "stream",
     "text": [
      "Show Number          int64\n",
      "Air Date            object\n",
      "Round               object\n",
      "Category            object\n",
      "Value               object\n",
      "Question            object\n",
      "Answer              object\n",
      "Value_converted    float64\n",
      "dtype: object\n",
      "Questions in the 90s that contain 'Computer': 71\n",
      "Questions in the 2000s that contain 'Computer': 197\n"
     ]
    }
   ],
   "source": [
    "print(jeopardy.dtypes) # checking data types\n",
    "\n",
    "# Filtering questions that contain 'Computer'\n",
    "filtered_data = filter_data_2(jeopardy, [\"Computer\"]).copy() # copy to avoid modifying the original\n",
    "\n",
    "# Converting 'Air Date' values to datetime\n",
    "filtered_data[\"Air Date\"] = pd.to_datetime(filtered_data[\"Air Date\"])\n",
    "\n",
    "# Extracting year as a integer from date\n",
    "filtered_data[\"Year\"] = filtered_data[\"Air Date\"].dt.year  # Creates a new column 'Year'\n",
    "\n",
    "# Filtering by decade (90s and 2000s)\n",
    "data_90s = filtered_data[(filtered_data[\"Year\"] >= 1900) & (filtered_data[\"Year\"] <= 1999)]\n",
    "data_2000s = filtered_data[(filtered_data[\"Year\"] >= 2000) & (filtered_data[\"Year\"] <= 2009)]\n",
    "\n",
    "# Counting the number of questions in each period (.shape[0] returns the number of rows)\n",
    "count_90s = data_90s.shape[0]\n",
    "count_2000s = data_2000s.shape[0]\n",
    "\n",
    "# Printing the reults\n",
    "print(f\"Questions in the 90s that contain 'Computer': {count_90s}\")\n",
    "print(f\"Questions in the 2000s that contain 'Computer': {count_2000s}\")"
   ]
  },
  {
   "cell_type": "markdown",
   "id": "066b6856-d5ef-422a-92fc-66e92a6f2070",
   "metadata": {},
   "source": [
    "## 7️⃣ Investigating Category Trends by Round"
   ]
  },
  {
   "cell_type": "code",
   "execution_count": 28,
   "id": "976d1c5f-af4d-4c57-924e-0ca99c7c5a2a",
   "metadata": {},
   "outputs": [
    {
     "name": "stdout",
     "output_type": "stream",
     "text": [
      "                 Round    Category  Count\n",
      "1     Double Jeopardy!  literature    381\n",
      "95           Jeopardy!  literature    105\n",
      "2724   Final Jeopardy!  literature     10\n",
      "                 Round Category  Count\n",
      "2     Double Jeopardy!  science    296\n",
      "13           Jeopardy!  science    217\n",
      "4499   Final Jeopardy!  science      6\n",
      "              Round         Category  Count\n",
      "0  Double Jeopardy!   BEFORE & AFTER    450\n",
      "1  Double Jeopardy!       LITERATURE    381\n",
      "2  Double Jeopardy!          SCIENCE    296\n",
      "3         Jeopardy!   STUPID ANSWERS    255\n",
      "4         Jeopardy!        POTPOURRI    255\n",
      "5  Double Jeopardy!  WORLD GEOGRAPHY    254\n",
      "6         Jeopardy!           SPORTS    253\n",
      "7  Double Jeopardy!            OPERA    250\n",
      "8  Double Jeopardy!    WORLD HISTORY    237\n",
      "9         Jeopardy!          ANIMALS    233\n"
     ]
    }
   ],
   "source": [
    "# Function to count how many times a category appears in each round\n",
    "def count_category_in_rounds(data, category_name):\n",
    "    #option one: (.groupby() and .size())\n",
    "    #grouped_data = data.groupby(['Round', 'Category']).size().reset_index(name=\"Count\") \n",
    "\n",
    "    #option two: (.value_counts())\n",
    "    category_counts = data[['Round', 'Category']].value_counts().reset_index(name=\"Count\") \n",
    "\n",
    "    # Converting category names to lowercase and removing spaces to ensure a match\n",
    "    category_counts[\"Category\"] = category_counts['Category'].str.strip().str.lower()\n",
    "    category_name = category_name.strip().lower()\n",
    "\n",
    "    # Filtering for specific category\n",
    "    filtered_counts = category_counts[category_counts[\"Category\"] == category_name]\n",
    "\n",
    "    return filtered_counts\n",
    "    \n",
    "# Testing \n",
    "literature_counts = count_category_in_rounds(jeopardy, \"Literature\")\n",
    "print(literature_counts)\n",
    "\n",
    "science_counts = count_category_in_rounds(jeopardy, \"Science\")\n",
    "print(science_counts)\n",
    "\n",
    "# Finding the most common categories per round:\n",
    "most_common_per_round = jeopardy[['Round', 'Category']].value_counts().reset_index(name=\"Count\")\n",
    "print(most_common_per_round.head(10))"
   ]
  },
  {
   "cell_type": "markdown",
   "id": "9b9523ab-3e10-4012-ac84-c4b2397ee6e3",
   "metadata": {},
   "source": [
    "## 🎯 Summary of Findings\n",
    "- The most common Jeopardy! category is **\"BEFORE & AFTER\"** in Double Jeopardy.\n",
    "- **Literature** and **Science** appear far more often in **Double Jeopardy! than Jeopardy!**.\n",
    "- The word **\"Computer\"** appeared more in Jeopardy! questions in **the 2000s than in the 90s**.\n",
    "- **\"Stupid Answers\"** is one of **the most frequent** categories in Jeopardy! "
   ]
  },
  {
   "cell_type": "code",
   "execution_count": null,
   "id": "a99b3676-497a-42da-be4d-3a3e5b0749d3",
   "metadata": {},
   "outputs": [],
   "source": []
  }
 ],
 "metadata": {
  "kernelspec": {
   "display_name": "Python [conda env:base] *",
   "language": "python",
   "name": "conda-base-py"
  },
  "language_info": {
   "codemirror_mode": {
    "name": "ipython",
    "version": 3
   },
   "file_extension": ".py",
   "mimetype": "text/x-python",
   "name": "python",
   "nbconvert_exporter": "python",
   "pygments_lexer": "ipython3",
   "version": "3.12.7"
  }
 },
 "nbformat": 4,
 "nbformat_minor": 5
}
